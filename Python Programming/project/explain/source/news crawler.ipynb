{
 "cells": [
  {
   "cell_type": "code",
   "execution_count": null,
   "metadata": {},
   "outputs": [],
   "source": [
    "import requests\n",
    "import re\n",
    "from bs4 import BeautifulSoup\n",
    "from bs4 import NavigableString\n",
    "import datetime\n",
    "import pandas as pd\n",
    "import platform\n",
    "import locale"
   ]
  },
  {
   "cell_type": "code",
   "execution_count": null,
   "metadata": {},
   "outputs": [],
   "source": [
    "# This dataframe contains 3 columns. The first column is 'date',\n",
    "# the second column is the news headline of that date and the third column\n",
    "# is the full content.\n",
    "dataframe = pd.DataFrame(columns = ['date','headline','content'])\n",
    "dataframe.head()\n",
    "filename = '2020news.csv'\n",
    "locale.setlocale(locale.LC_CTYPE,'chinese')"
   ]
  },
  {
   "cell_type": "code",
   "execution_count": null,
   "metadata": {},
   "outputs": [],
   "source": [
    "# Traverse the dates.\n",
    "begin = datetime.date(2020,1,1)\n",
    "end = datetime.date(2020,12,31)\n",
    " \n",
    "d = begin\n",
    "delta = datetime.timedelta(days=1)\n",
    "\n",
    "def tag_filter_headline(tag):\n",
    "    flag_1 = (tag.name == 'li') and not tag.has_attr('class')\n",
    "    flag_2 = isinstance(tag.next_element, NavigableString)\n",
    "    return flag_1 and flag_2\n",
    "\n",
    "def tag_filter_content(tag):\n",
    "    flag_1 = (tag.name == 'p') and not tag.has_attr('class')\n",
    "    flag_2 = isinstance(tag.next_element, NavigableString)\n",
    "    return flag_1 and flag_2\n",
    "\n",
    "while d <= end:\n",
    "    # Get the source code of that day.\n",
    "    sysstr = platform.system()\n",
    "    if (sysstr == 'Linux'):\n",
    "        url_d = d.strftime('http://mrxwlb.com/%Y年%-m月%-d日新闻联播文字版')# This only works on Unix!\n",
    "    elif (sysstr == 'Windows'):\n",
    "        url_d = d.strftime('http://mrxwlb.com/%Y年%#m月%#d日新闻联播文字版')# Windows users use this line instead.\n",
    "    r = requests.get(url_d)\n",
    "    \n",
    "    # Making the source code text into soup!\n",
    "    soup = BeautifulSoup(r.text)\n",
    "    outlines_raw = soup.find_all(tag_filter_headline)\n",
    "    full_texts_raw = soup.find_all(tag_filter_content)\n",
    "    \n",
    "    outlines = \"\"\n",
    "    full_texts = \"\"\n",
    "    \n",
    "    \n",
    "    for outline in list(outlines_raw):\n",
    "        try:\n",
    "            outlines = \",\".join((outlines, outline.string))\n",
    "        except Exception as e: \n",
    "            pass\n",
    "        continue\n",
    "    \n",
    "    outlines = outlines.strip(',')\n",
    "    \n",
    "\n",
    "    for full_text in list(full_texts_raw):\n",
    "        try:\n",
    "            full_texts = \",\".join((full_texts, full_text.string))\n",
    "        except Exception as e:\n",
    "            pass\n",
    "        continue\n",
    "    \n",
    "    full_texts = full_texts.strip(',')\n",
    "\n",
    "    df_new = pd.DataFrame([[d, outlines, full_texts]], columns = ['date','headline','content'])\n",
    "    dataframe = dataframe.append(df_new,ignore_index = True)\n",
    "    \n",
    "    d += delta\n",
    "\n",
    "dataframe.to_csv(filename, encoding = 'utf_8_sig')\n",
    "dataframe.head()"
   ]
  },
  {
   "cell_type": "code",
   "execution_count": null,
   "metadata": {},
   "outputs": [],
   "source": []
  }
 ],
 "metadata": {
  "kernelspec": {
   "display_name": "Python 3",
   "language": "python",
   "name": "python3"
  },
  "language_info": {
   "codemirror_mode": {
    "name": "ipython",
    "version": 3
   },
   "file_extension": ".py",
   "mimetype": "text/x-python",
   "name": "python",
   "nbconvert_exporter": "python",
   "pygments_lexer": "ipython3",
   "version": "3.8.5"
  }
 },
 "nbformat": 4,
 "nbformat_minor": 4
}
